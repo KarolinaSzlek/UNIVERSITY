{
 "cells": [
  {
   "cell_type": "code",
   "execution_count": 98,
   "metadata": {},
   "outputs": [],
   "source": [
    "# Set up\n",
    "import numpy as np\n",
    "import math\n",
    "import random\n",
    "import scipy\n",
    "\n",
    "import matplotlib.pyplot as plt\n",
    "import matplotlib.colors as mcolors\n",
    "from matplotlib import cm\n",
    "from matplotlib.colors import ListedColormap\n",
    "\n",
    "def generate(K, N, V):\n",
    "    assert(K == len(V))\n",
    "    \n",
    "    def cloud(a, b, N):\n",
    "        mean = (a, b)\n",
    "        cov = np.array([[1, 0], [0, 1]])\n",
    "        X, Y = np.random.multivariate_normal(mean, cov, N).T\n",
    "        return np.array([X, Y])\n",
    "        \n",
    "    return np.array([cloud(a, b, N) for (a,b) in V])\n",
    "\n",
    "def pol_vertices(K, d):\n",
    "    R = d / (2 * math.sin(math.pi / K))\n",
    "    return np.array([[R * math.sin(a), R * math.cos(a)] for a in np.arange(0, 2 * math.pi, 2 * math.pi / K)])\n",
    "\n",
    "N = 1000\n",
    "\n",
    "K1, K2, K3 = 7, 11 ,23\n",
    "d1, d2, d3 = 5, 10, 15\n",
    "\n",
    "V1 = pol_vertices(K1, d1)\n",
    "V2 = pol_vertices(K2, d2)\n",
    "V3 = pol_vertices(K3, d3)\n",
    "\n",
    "\n",
    "C1 = generate(K1, N, V1)\n",
    "C2 = generate(K2, N, V2)\n",
    "C3 = generate(K3, N, V3)"
   ]
  },
  {
   "cell_type": "markdown",
   "metadata": {},
   "source": [
    "**Dla danych z poprzedniego zadania policz odległość każdego punktu danych od każdego centrum\n",
    "chmury i na sporządzonych wykresach zaznacz kolorem czerwonym te punkty danych, które\n",
    "znajdują się bliżej centrum innej chmury niż chmury, z której pochodzą, a kolorem zielonym\n",
    "pozostałe punkty danych. Jak zależy frakcja punktów czerwonych od długości d? Jaka powinna\n",
    "być wartość d, żeby punkty czerwone stanowiły około 10% wszystkich punktów danych?**\n"
   ]
  },
  {
   "cell_type": "code",
   "execution_count": 6,
   "metadata": {},
   "outputs": [],
   "source": [
    "def distances(points, centers):\n",
    "    return -2 * np.dot(centers.T, points) + np.sum(centers.T**2, axis=1)[:, np.newaxis] + np.sum(points.T**2, axis=1)"
   ]
  },
  {
   "cell_type": "code",
   "execution_count": 97,
   "metadata": {},
   "outputs": [
    {
     "ename": "IndexError",
     "evalue": "boolean index did not match indexed array along dimension 0; dimension is 3 but corresponding boolean dimension is 7000",
     "output_type": "error",
     "traceback": [
      "\u001b[1;31m---------------------------------------------------------------------------\u001b[0m",
      "\u001b[1;31mIndexError\u001b[0m                                Traceback (most recent call last)",
      "\u001b[1;32m<ipython-input-97-153cac490561>\u001b[0m in \u001b[0;36m<module>\u001b[1;34m\u001b[0m\n\u001b[0;32m     23\u001b[0m \u001b[1;33m\u001b[0m\u001b[0m\n\u001b[0;32m     24\u001b[0m \u001b[0mP1\u001b[0m\u001b[1;33m,\u001b[0m \u001b[0mP2\u001b[0m\u001b[1;33m,\u001b[0m \u001b[0mP3\u001b[0m \u001b[1;33m=\u001b[0m \u001b[0mplt\u001b[0m\u001b[1;33m.\u001b[0m\u001b[0mfigure\u001b[0m\u001b[1;33m(\u001b[0m\u001b[1;33m)\u001b[0m\u001b[1;33m.\u001b[0m\u001b[0mgca\u001b[0m\u001b[1;33m(\u001b[0m\u001b[1;33m)\u001b[0m\u001b[1;33m,\u001b[0m \u001b[0mplt\u001b[0m\u001b[1;33m.\u001b[0m\u001b[0mfigure\u001b[0m\u001b[1;33m(\u001b[0m\u001b[1;33m)\u001b[0m\u001b[1;33m.\u001b[0m\u001b[0mgca\u001b[0m\u001b[1;33m(\u001b[0m\u001b[1;33m)\u001b[0m\u001b[1;33m,\u001b[0m \u001b[0mplt\u001b[0m\u001b[1;33m.\u001b[0m\u001b[0mfigure\u001b[0m\u001b[1;33m(\u001b[0m\u001b[1;33m)\u001b[0m\u001b[1;33m.\u001b[0m\u001b[0mgca\u001b[0m\u001b[1;33m(\u001b[0m\u001b[1;33m)\u001b[0m\u001b[1;33m\u001b[0m\u001b[1;33m\u001b[0m\u001b[0m\n\u001b[1;32m---> 25\u001b[1;33m \u001b[0mP1\u001b[0m\u001b[1;33m.\u001b[0m\u001b[0mscatter\u001b[0m\u001b[1;33m(\u001b[0m\u001b[0mpoints1\u001b[0m\u001b[1;33m[\u001b[0m\u001b[1;36m0\u001b[0m\u001b[1;33m]\u001b[0m\u001b[1;33m,\u001b[0m \u001b[0mpoints1\u001b[0m\u001b[1;33m[\u001b[0m\u001b[1;36m1\u001b[0m\u001b[1;33m]\u001b[0m\u001b[1;33m,\u001b[0m \u001b[0mc\u001b[0m\u001b[1;33m=\u001b[0m\u001b[0mcolors\u001b[0m\u001b[1;33m[\u001b[0m\u001b[0mA1\u001b[0m\u001b[1;33m]\u001b[0m\u001b[1;33m,\u001b[0m \u001b[0medgecolor\u001b[0m\u001b[1;33m=\u001b[0m\u001b[1;34m'black'\u001b[0m\u001b[1;33m)\u001b[0m\u001b[1;33m\u001b[0m\u001b[1;33m\u001b[0m\u001b[0m\n\u001b[0m\u001b[0;32m     26\u001b[0m \u001b[0mP2\u001b[0m\u001b[1;33m.\u001b[0m\u001b[0mscatter\u001b[0m\u001b[1;33m(\u001b[0m\u001b[0mpoints2\u001b[0m\u001b[1;33m[\u001b[0m\u001b[1;36m0\u001b[0m\u001b[1;33m]\u001b[0m\u001b[1;33m,\u001b[0m \u001b[0mpoints2\u001b[0m\u001b[1;33m[\u001b[0m\u001b[1;36m1\u001b[0m\u001b[1;33m]\u001b[0m\u001b[1;33m,\u001b[0m \u001b[0mc\u001b[0m\u001b[1;33m=\u001b[0m\u001b[0mcolors\u001b[0m\u001b[1;33m[\u001b[0m\u001b[0mA2\u001b[0m\u001b[1;33m]\u001b[0m\u001b[1;33m,\u001b[0m \u001b[0medgecolor\u001b[0m\u001b[1;33m=\u001b[0m\u001b[1;34m'black'\u001b[0m\u001b[1;33m)\u001b[0m\u001b[1;33m\u001b[0m\u001b[1;33m\u001b[0m\u001b[0m\n\u001b[0;32m     27\u001b[0m \u001b[0mP3\u001b[0m\u001b[1;33m.\u001b[0m\u001b[0mscatter\u001b[0m\u001b[1;33m(\u001b[0m\u001b[0mpoints3\u001b[0m\u001b[1;33m[\u001b[0m\u001b[1;36m0\u001b[0m\u001b[1;33m]\u001b[0m\u001b[1;33m,\u001b[0m \u001b[0mpoints3\u001b[0m\u001b[1;33m[\u001b[0m\u001b[1;36m1\u001b[0m\u001b[1;33m]\u001b[0m\u001b[1;33m,\u001b[0m \u001b[0mc\u001b[0m\u001b[1;33m=\u001b[0m\u001b[0mcolors\u001b[0m\u001b[1;33m[\u001b[0m\u001b[0mA3\u001b[0m\u001b[1;33m]\u001b[0m\u001b[1;33m,\u001b[0m \u001b[0medgecolor\u001b[0m\u001b[1;33m=\u001b[0m\u001b[1;34m'black'\u001b[0m\u001b[1;33m)\u001b[0m\u001b[1;33m\u001b[0m\u001b[1;33m\u001b[0m\u001b[0m\n",
      "\u001b[1;31mIndexError\u001b[0m: boolean index did not match indexed array along dimension 0; dimension is 3 but corresponding boolean dimension is 7000"
     ]
    },
    {
     "data": {
      "image/png": "[encoded data removed]",
      "text/plain": [
       "<Figure size 432x288 with 1 Axes>"
      ]
     },
     "metadata": {
      "needs_background": "light"
     },
     "output_type": "display_data"
    },
    {
     "data": {
      "image/png": "[encoded data removed]",
      "text/plain": [
       "<Figure size 432x288 with 1 Axes>"
      ]
     },
     "metadata": {
      "needs_background": "light"
     },
     "output_type": "display_data"
    },
    {
     "data": {
      "image/png": "[encoded data removed]",
      "text/plain": [
       "<Figure size 432x288 with 1 Axes>"
      ]
     },
     "metadata": {
      "needs_background": "light"
     },
     "output_type": "display_data"
    }
   ],
   "source": [
    "points1 = np.array([C1[:, 0, :].reshape(N * K1), C1[:, 1, :].reshape(N * K1)])\n",
    "points2 = np.array([C2[:, 0, :].reshape(N * K2), C2[:, 1, :].reshape(N * K2)])\n",
    "points3 = np.array([C3[:, 0, :].reshape(N * K3), C3[:, 1, :].reshape(N * K3)])\n",
    "\n",
    "centers1 = V1.T\n",
    "centers2 = V2.T\n",
    "centers3 = V3.T\n",
    "\n",
    "# len(centers) x len(points) distances matrices\n",
    "D1 = distances(points1, centers1)\n",
    "D2 = distances(points2, centers2)\n",
    "D3 = distances(points3, centers3)\n",
    "\n",
    "# which center is closest for each point\n",
    "M1 = np.argmin(D1, axis=0)\n",
    "M2 = np.argmin(D2, axis=0)\n",
    "M3 = np.argmin(D3, axis=0)\n",
    "\n",
    "# vector with answers\n",
    "A1 = ['Green' if M1[i] == i // N else 'Red' for i in range(len(M1))]\n",
    "A2 = ['Green' if M2[i] == i // N else 'Red' for i in range(len(M2))]\n",
    "A3 = ['Green' if M3[i] == i // N else 'Red' for i in range(len(M3))]\n",
    "\n",
    "P1, P2, P3 = plt.figure().gca(), plt.figure().gca(), plt.figure().gca()\n",
    "P1.scatter(points1[0], points1[1], c=A1, edgecolor='black')\n",
    "P2.scatter(points2[0], points2[1], c=A2, edgecolor='black')\n",
    "P3.scatter(points3[0], points3[1], c=A3, edgecolor='black')"
   ]
  },
  {
   "cell_type": "code",
   "execution_count": null,
   "metadata": {},
   "outputs": [],
   "source": []
  }
 ],
 "metadata": {
  "kernelspec": {
   "display_name": "Python 3",
   "language": "python",
   "name": "python3"
  },
  "language_info": {
   "codemirror_mode": {
    "name": "ipython",
    "version": 3
   },
   "file_extension": ".py",
   "mimetype": "text/x-python",
   "name": "python",
   "nbconvert_exporter": "python",
   "pygments_lexer": "ipython3",
   "version": "3.7.3"
  }
 },
 "nbformat": 4,
 "nbformat_minor": 4
}
