{
 "cells": [
  {
   "cell_type": "code",
   "execution_count": 24,
   "metadata": {},
   "outputs": [
    {
     "name": "stdout",
     "output_type": "stream",
     "text": [
      "Using matplotlib backend: TkAgg\n",
      "Populating the interactive namespace from numpy and matplotlib\n",
      "Populating the interactive namespace from numpy and matplotlib\n",
      "The autoreload extension is already loaded. To reload it, use:\n",
      "  %reload_ext autoreload\n"
     ]
    }
   ],
   "source": [
    "# Set up\n",
    "%pylab\n",
    "%pylab inline\n",
    "%matplotlib inline\n",
    "%load_ext autoreload\n",
    "%autoreload 2\n",
    "import tqdm\n",
    "import random\n",
    "import pandas as pd\n",
    "from collections import Counter\n",
    "from itertools import cycle\n",
    "\n",
    "from sklearn import datasets, metrics, tree\n",
    "from sklearn.cluster import KMeans, MiniBatchKMeans, Birch, DBSCAN\n",
    "from sklearn.decomposition import PCA\n",
    "from sklearn.model_selection import train_test_split\n",
    "\n",
    "import spectral\n",
    "import seaborn as sns \n",
    "import tqdm\n",
    "\n",
    "import DecisionTree"
   ]
  },
  {
   "cell_type": "markdown",
   "metadata": {},
   "source": [
    "# Zadanie 2. (1 punkt)\n",
    "W pakiecie SciKit do Pythona dostępnych jest kilka popularnych algorytmów klasyfikacji danych <br/>\n",
    "przy użyciu drzew klasyfikacyjnych. Zapoznaj się z nimi wykonując skrypt umieszczony w<br/>\n",
    "materiałach do wykładu. Do rysowania drzew użyj programu Graphviz.<br/>\n",
    "<br/>\n",
    "a) Jaką miarę różnorodności stosuje algorytm konstrukcji drzew klasyfikujących użyty w skrypcie?<br/>\n",
    "Dla danych Titanic sporządź drzewa klasyfikacyjne stosując indeks Giniego oraz entropię.<br/>\n",
    "<br/>\n",
    "b) Podziel dane Titanic na dane uczące i dane testowe (jak w zadaniu 1b), stwórz drzewa<br/>\n",
    "klasyfikacyjne na danych uczących i przetestuj na danych testowych.<br/>\n",
    "<br/>\n",
    "c) Spróbuj ograniczyć głębokość drzewa. Zobacz jak wpływa to na wyniki (zarówno na danych<br/>\n",
    "uczących jak i na danych testowych).<br/>\n",
    "<br/>\n",
    "d) Spróbuj przyciąć drzewo techniką omawianą na wykładzie lub własną. Zobacz jak wpływa to na<br/>\n",
    "wyniki (zarówno na danych uczących jak i na danych testowych).<br/>\n",
    "<br/>\n",
    "e) Zrób cross validation wszystkich tworzonych w tym zadaniu klasyfikatorów na zestawie danych<br/>\n",
    "Titanic. <br/>\n",
    "\n"
   ]
  },
  {
   "cell_type": "markdown",
   "metadata": {},
   "source": [
    "# a) b)\n"
   ]
  },
  {
   "cell_type": "code",
   "execution_count": 48,
   "metadata": {},
   "outputs": [
    {
     "data": {
      "text/html": [
       "<div>\n",
       "<style scoped>\n",
       "    .dataframe tbody tr th:only-of-type {\n",
       "        vertical-align: middle;\n",
       "    }\n",
       "\n",
       "    .dataframe tbody tr th {\n",
       "        vertical-align: top;\n",
       "    }\n",
       "\n",
       "    .dataframe thead th {\n",
       "        text-align: right;\n",
       "    }\n",
       "</style>\n",
       "<table border=\"1\" class=\"dataframe\">\n",
       "  <thead>\n",
       "    <tr style=\"text-align: right;\">\n",
       "      <th></th>\n",
       "      <th>Survived</th>\n",
       "      <th>Pclass</th>\n",
       "      <th>Sex</th>\n",
       "      <th>Age</th>\n",
       "      <th>SibSp</th>\n",
       "      <th>Parch</th>\n",
       "      <th>Fare</th>\n",
       "      <th>Embarked</th>\n",
       "    </tr>\n",
       "  </thead>\n",
       "  <tbody>\n",
       "    <tr>\n",
       "      <th>0</th>\n",
       "      <td>0</td>\n",
       "      <td>3</td>\n",
       "      <td>1</td>\n",
       "      <td>22.0</td>\n",
       "      <td>1</td>\n",
       "      <td>0</td>\n",
       "      <td>7.2500</td>\n",
       "      <td>2</td>\n",
       "    </tr>\n",
       "    <tr>\n",
       "      <th>1</th>\n",
       "      <td>1</td>\n",
       "      <td>1</td>\n",
       "      <td>0</td>\n",
       "      <td>38.0</td>\n",
       "      <td>1</td>\n",
       "      <td>0</td>\n",
       "      <td>71.2833</td>\n",
       "      <td>0</td>\n",
       "    </tr>\n",
       "    <tr>\n",
       "      <th>2</th>\n",
       "      <td>1</td>\n",
       "      <td>3</td>\n",
       "      <td>0</td>\n",
       "      <td>26.0</td>\n",
       "      <td>0</td>\n",
       "      <td>0</td>\n",
       "      <td>7.9250</td>\n",
       "      <td>2</td>\n",
       "    </tr>\n",
       "    <tr>\n",
       "      <th>3</th>\n",
       "      <td>1</td>\n",
       "      <td>1</td>\n",
       "      <td>0</td>\n",
       "      <td>35.0</td>\n",
       "      <td>1</td>\n",
       "      <td>0</td>\n",
       "      <td>53.1000</td>\n",
       "      <td>2</td>\n",
       "    </tr>\n",
       "    <tr>\n",
       "      <th>4</th>\n",
       "      <td>0</td>\n",
       "      <td>3</td>\n",
       "      <td>1</td>\n",
       "      <td>35.0</td>\n",
       "      <td>0</td>\n",
       "      <td>0</td>\n",
       "      <td>8.0500</td>\n",
       "      <td>2</td>\n",
       "    </tr>\n",
       "  </tbody>\n",
       "</table>\n",
       "</div>"
      ],
      "text/plain": [
       "   Survived  Pclass  Sex   Age  SibSp  Parch     Fare  Embarked\n",
       "0         0       3    1  22.0      1      0   7.2500         2\n",
       "1         1       1    0  38.0      1      0  71.2833         0\n",
       "2         1       3    0  26.0      0      0   7.9250         2\n",
       "3         1       1    0  35.0      1      0  53.1000         2\n",
       "4         0       3    1  35.0      0      0   8.0500         2"
      ]
     },
     "execution_count": 48,
     "metadata": {},
     "output_type": "execute_result"
    }
   ],
   "source": [
    "titanic_train = pd.read_csv('data/train.csv')\n",
    "titanic_test = pd.read_csv('data/test.csv')\n",
    "\n",
    "X = titanic_train.drop(['PassengerId', 'Name', 'Ticket', 'Cabin'], axis = 1)\n",
    "X = X.dropna()\n",
    "X['Sex'] = pd.Categorical(X['Sex']).codes\n",
    "X['Embarked'] = pd.Categorical(X['Embarked']).codes\n",
    "\n",
    "X.head()"
   ]
  },
  {
   "cell_type": "code",
   "execution_count": 177,
   "metadata": {},
   "outputs": [],
   "source": [
    "def cross_validation(X, no=10, criterion='gini', max_depth=1000, min_samples_split=None, min_samples_leaf=None):\n",
    "    err_sum = 0\n",
    "    Y = X['Survived']\n",
    "    X = X.drop('Survived', axis=1)\n",
    "    indices = np.random.uniform(0, no, len(X)).astype(int)\n",
    "    print('--------------------------------------')\n",
    "    print(f'Cross validation using {criterion}')\n",
    "    for i in range(no):\n",
    "        x_train = X[indices != i]\n",
    "        y_train = Y[indices != i]\n",
    "        x_test = X[indices == i]\n",
    "        y_test = Y[indices == i]\n",
    "        \n",
    "        if min_samples_split and min_samples_leaf:\n",
    "            model = tree.DecisionTreeClassifier(criterion=criterion, max_depth=max_depth, \n",
    "                                        min_samples_split=min_samples_split, min_samples_leaf=min_samples_leaf)\n",
    "        else:\n",
    "            model = tree.DecisionTreeClassifier(criterion=criterion, max_depth=max_depth)\n",
    "            \n",
    "        model.fit(x_train, y_train)\n",
    "        predictions = model.predict(x_test)\n",
    "        \n",
    "        result = list(predictions == y_test)\n",
    "        result_cnt = result.count(True) / len(result) * 100\n",
    "          \n",
    "        err_sum += result_cnt\n",
    "        print(f'Test: {i} -> score: {result_cnt}\\n')\n",
    "        \n",
    "    print(f'Final error: {err_sum / no}\\n')\n",
    "        \n",
    "        \n",
    "def build_Tree(X_train, X_test, criterion='gini', max_depth=1000, min_samples_split=None, min_samples_leaf=None):\n",
    "    Y_train = X_train['Survived']\n",
    "    X_train = X_train.drop('Survived', axis=1)\n",
    "    Y_test = X_test['Survived']\n",
    "    X_test = X_test.drop('Survived', axis=1)\n",
    "\n",
    "    model = None\n",
    "    name = 'titanic.dot'\n",
    "    if min_samples_split and min_samples_leaf:\n",
    "        model = tree.DecisionTreeClassifier(criterion=criterion, max_depth=max_depth, \n",
    "                                        min_samples_split=min_samples_split, min_samples_leaf=min_samples_leaf)\n",
    "        name = 'prunned_' + name\n",
    "    else:\n",
    "        model = tree.DecisionTreeClassifier(criterion=criterion, max_depth=max_depth)\n",
    "        \n",
    "    model.fit(X_train, Y_train)\n",
    "    print(f'Classification using {criterion}')\n",
    "    print(metrics.confusion_matrix(model.predict(X_test), Y_test))\n",
    "    print(f'Score: {model.score(X_test, Y_test) * 100:.2f}%\\n')\n",
    "    \n",
    "    with open(name, \"w\") as f:\n",
    "        tree.export_graphviz(model, out_file=f, feature_names=X_train.columns)"
   ]
  },
  {
   "cell_type": "code",
   "execution_count": 178,
   "metadata": {},
   "outputs": [
    {
     "name": "stdout",
     "output_type": "stream",
     "text": [
      "Classification using gini\n",
      "[[110  29]\n",
      " [ 37  62]]\n",
      "Score: 72.27%\n",
      "\n",
      "Classification using entropy\n",
      "[[114  35]\n",
      " [ 33  56]]\n",
      "Score: 71.43%\n",
      "\n",
      "--------------------------------------\n",
      "Cross validation using entropy\n",
      "Test: 0 -> score: 74.07407407407408\n",
      "\n",
      "Test: 1 -> score: 81.57894736842105\n",
      "\n",
      "Test: 2 -> score: 83.56164383561644\n",
      "\n",
      "Test: 3 -> score: 75.60975609756098\n",
      "\n",
      "Test: 4 -> score: 72.3076923076923\n",
      "\n",
      "Test: 5 -> score: 81.08108108108108\n",
      "\n",
      "Test: 6 -> score: 74.50980392156863\n",
      "\n",
      "Test: 7 -> score: 69.73684210526315\n",
      "\n",
      "Test: 8 -> score: 81.25\n",
      "\n",
      "Test: 9 -> score: 70.0\n",
      "\n",
      "Final error: 76.37098407912778\n",
      "\n",
      "--------------------------------------\n",
      "Cross validation using gini\n",
      "Test: 0 -> score: 69.11764705882352\n",
      "\n",
      "Test: 1 -> score: 71.42857142857143\n",
      "\n",
      "Test: 2 -> score: 77.94117647058823\n",
      "\n",
      "Test: 3 -> score: 70.51282051282051\n",
      "\n",
      "Test: 4 -> score: 83.07692307692308\n",
      "\n",
      "Test: 5 -> score: 71.95121951219512\n",
      "\n",
      "Test: 6 -> score: 78.37837837837837\n",
      "\n",
      "Test: 7 -> score: 71.23287671232876\n",
      "\n",
      "Test: 8 -> score: 82.53968253968253\n",
      "\n",
      "Test: 9 -> score: 79.6875\n",
      "\n",
      "Final error: 75.58667956903116\n",
      "\n"
     ]
    }
   ],
   "source": [
    "X_train, X_test = train_test_split(X, test_size=0.3333)\n",
    "build_Tree(X_train, X_test, criterion='gini')\n",
    "build_Tree(X_train, X_test, criterion='entropy')\n",
    "\n",
    "cross_validation(X, criterion='entropy')\n",
    "cross_validation(X, criterion='gini')"
   ]
  },
  {
   "cell_type": "markdown",
   "metadata": {},
   "source": [
    "# c)"
   ]
  },
  {
   "cell_type": "code",
   "execution_count": 179,
   "metadata": {},
   "outputs": [
    {
     "name": "stdout",
     "output_type": "stream",
     "text": [
      "Classification using gini\n",
      "[[133  35]\n",
      " [ 14  56]]\n",
      "Score: 79.41%\n",
      "\n",
      "Classification using entropy\n",
      "[[126  33]\n",
      " [ 21  58]]\n",
      "Score: 77.31%\n",
      "\n",
      "--------------------------------------\n",
      "Cross validation using entropy\n",
      "Test: 0 -> score: 75.92592592592592\n",
      "\n",
      "Test: 1 -> score: 79.1044776119403\n",
      "\n",
      "Test: 2 -> score: 74.13793103448276\n",
      "\n",
      "Test: 3 -> score: 78.87323943661971\n",
      "\n",
      "Test: 4 -> score: 83.13253012048193\n",
      "\n",
      "Test: 5 -> score: 80.95238095238095\n",
      "\n",
      "Test: 6 -> score: 80.26315789473685\n",
      "\n",
      "Test: 7 -> score: 73.84615384615385\n",
      "\n",
      "Test: 8 -> score: 86.41975308641975\n",
      "\n",
      "Test: 9 -> score: 82.1917808219178\n",
      "\n",
      "Final error: 79.48473307310599\n",
      "\n",
      "--------------------------------------\n",
      "Cross validation using gini\n",
      "Test: 0 -> score: 73.4375\n",
      "\n",
      "Test: 1 -> score: 83.33333333333334\n",
      "\n",
      "Test: 2 -> score: 84.05797101449275\n",
      "\n",
      "Test: 3 -> score: 80.51948051948052\n",
      "\n",
      "Test: 4 -> score: 83.07692307692308\n",
      "\n",
      "Test: 5 -> score: 78.57142857142857\n",
      "\n",
      "Test: 6 -> score: 78.26086956521739\n",
      "\n",
      "Test: 7 -> score: 79.74683544303798\n",
      "\n",
      "Test: 8 -> score: 83.33333333333334\n",
      "\n",
      "Test: 9 -> score: 74.71264367816092\n",
      "\n",
      "Final error: 79.9050318535408\n",
      "\n"
     ]
    }
   ],
   "source": [
    "# max depth limit\n",
    "build_Tree(X_train, X_test, criterion='gini', max_depth=5)\n",
    "build_Tree(X_train, X_test, criterion='entropy', max_depth=5)\n",
    "\n",
    "cross_validation(X, criterion='entropy', max_depth=5)\n",
    "cross_validation(X, criterion='gini', max_depth=5)"
   ]
  },
  {
   "cell_type": "markdown",
   "metadata": {},
   "source": [
    "# d)"
   ]
  },
  {
   "cell_type": "code",
   "execution_count": 180,
   "metadata": {},
   "outputs": [
    {
     "name": "stdout",
     "output_type": "stream",
     "text": [
      "Classification using gini\n",
      "[[130  36]\n",
      " [ 17  55]]\n",
      "Score: 77.73%\n",
      "\n",
      "Classification using entropy\n",
      "[[125  33]\n",
      " [ 22  58]]\n",
      "Score: 76.89%\n",
      "\n",
      "--------------------------------------\n",
      "Cross validation using entropy\n",
      "Test: 0 -> score: 77.46478873239437\n",
      "\n",
      "Test: 1 -> score: 79.51807228915662\n",
      "\n",
      "Test: 2 -> score: 76.81159420289855\n",
      "\n",
      "Test: 3 -> score: 76.31578947368422\n",
      "\n",
      "Test: 4 -> score: 84.72222222222221\n",
      "\n",
      "Test: 5 -> score: 87.93103448275862\n",
      "\n",
      "Test: 6 -> score: 84.93150684931507\n",
      "\n",
      "Test: 7 -> score: 78.37837837837837\n",
      "\n",
      "Test: 8 -> score: 81.25\n",
      "\n",
      "Test: 9 -> score: 80.35714285714286\n",
      "\n",
      "Final error: 80.76805294879509\n",
      "\n",
      "--------------------------------------\n",
      "Cross validation using gini\n",
      "Test: 0 -> score: 84.05797101449275\n",
      "\n",
      "Test: 1 -> score: 85.91549295774648\n",
      "\n",
      "Test: 2 -> score: 78.68852459016394\n",
      "\n",
      "Test: 3 -> score: 77.63157894736842\n",
      "\n",
      "Test: 4 -> score: 74.02597402597402\n",
      "\n",
      "Test: 5 -> score: 82.08955223880598\n",
      "\n",
      "Test: 6 -> score: 76.38888888888889\n",
      "\n",
      "Test: 7 -> score: 81.3953488372093\n",
      "\n",
      "Test: 8 -> score: 80.88235294117648\n",
      "\n",
      "Test: 9 -> score: 80.0\n",
      "\n",
      "Final error: 80.10756844418263\n",
      "\n"
     ]
    }
   ],
   "source": [
    "# prunning\n",
    "build_Tree(X_train, X_test, criterion='gini', max_depth=5, min_samples_split=10, min_samples_leaf=5)\n",
    "build_Tree(X_train, X_test, criterion='entropy', max_depth=5, min_samples_split=10, min_samples_leaf=5)\n",
    "\n",
    "cross_validation(X, criterion='entropy', max_depth=5, min_samples_split=10, min_samples_leaf=5)\n",
    "cross_validation(X, criterion='gini', max_depth=5, min_samples_split=10, min_samples_leaf=5)"
   ]
  },
  {
   "cell_type": "markdown",
   "metadata": {},
   "source": [
    "# Zadanie 3\n",
    "**Random Forest i Extremely Randomized Trees**"
   ]
  },
  {
   "cell_type": "code",
   "execution_count": 181,
   "metadata": {},
   "outputs": [],
   "source": [
    "from sklearn.ensemble import RandomForestClassifier\n",
    "from sklearn.ensemble import ExtraTreesClassifier"
   ]
  },
  {
   "cell_type": "code",
   "execution_count": 200,
   "metadata": {},
   "outputs": [],
   "source": [
    "# TITANIC\n",
    "X_titanic_train, X_titanic_test = train_test_split(X, test_size=0.3333)\n",
    "Y_titanic_train = X_titanic_train['Survived']\n",
    "X_titanic_train = X_titanic_train.drop('Survived', axis=1)\n",
    "\n",
    "Y_titanic_test = X_titanic_test['Survived']\n",
    "X_titanic_test = X_titanic_test.drop('Survived', axis=1)"
   ]
  },
  {
   "cell_type": "code",
   "execution_count": 201,
   "metadata": {},
   "outputs": [
    {
     "data": {
      "text/plain": [
       "ExtraTreesClassifier(bootstrap=False, class_weight=None, criterion='gini',\n",
       "                     max_depth=None, max_features='auto', max_leaf_nodes=None,\n",
       "                     min_impurity_decrease=0.0, min_impurity_split=None,\n",
       "                     min_samples_leaf=1, min_samples_split=2,\n",
       "                     min_weight_fraction_leaf=0.0, n_estimators=20, n_jobs=None,\n",
       "                     oob_score=False, random_state=None, verbose=0,\n",
       "                     warm_start=False)"
      ]
     },
     "execution_count": 201,
     "metadata": {},
     "output_type": "execute_result"
    }
   ],
   "source": [
    "random_forest = RandomForestClassifier(n_estimators=20)\n",
    "extra_random_forest = ExtraTreesClassifier(n_estimators=20)\n",
    "\n",
    "random_forest.fit(X_titanic_train, Y_titanic_train)\n",
    "extra_random_forest.fit(X_titanic_train, Y_titanic_train)"
   ]
  },
  {
   "cell_type": "code",
   "execution_count": 202,
   "metadata": {},
   "outputs": [
    {
     "name": "stdout",
     "output_type": "stream",
     "text": [
      "Random Forest:\n",
      "[[119  30]\n",
      " [ 23  66]]\n",
      "Score: 77.73%\n",
      "\n"
     ]
    }
   ],
   "source": [
    "print('Random Forest:')\n",
    "print(metrics.confusion_matrix(random_forest.predict(X_titanic_test), Y_titanic_test))\n",
    "print(f'Score: {random_forest.score(X_titanic_test, Y_titanic_test) * 100:.2f}%\\n')"
   ]
  },
  {
   "cell_type": "code",
   "execution_count": 203,
   "metadata": {},
   "outputs": [
    {
     "name": "stdout",
     "output_type": "stream",
     "text": [
      "Extremely Randomized Trees:\n",
      "[[123  33]\n",
      " [ 19  63]]\n",
      "Score: 78.15%\n",
      "\n"
     ]
    }
   ],
   "source": [
    "print('Extremely Randomized Trees:')\n",
    "print(metrics.confusion_matrix(extra_random_forest.predict(X_titanic_test), Y_titanic_test))\n",
    "print(f'Score: {extra_random_forest.score(X_titanic_test, Y_titanic_test) * 100:.2f}%\\n')"
   ]
  },
  {
   "cell_type": "code",
   "execution_count": 207,
   "metadata": {},
   "outputs": [
    {
     "data": {
      "text/html": [
       "<div>\n",
       "<style scoped>\n",
       "    .dataframe tbody tr th:only-of-type {\n",
       "        vertical-align: middle;\n",
       "    }\n",
       "\n",
       "    .dataframe tbody tr th {\n",
       "        vertical-align: top;\n",
       "    }\n",
       "\n",
       "    .dataframe thead th {\n",
       "        text-align: right;\n",
       "    }\n",
       "</style>\n",
       "<table border=\"1\" class=\"dataframe\">\n",
       "  <thead>\n",
       "    <tr style=\"text-align: right;\">\n",
       "      <th></th>\n",
       "      <th>sepal length (cm)</th>\n",
       "      <th>sepal width (cm)</th>\n",
       "      <th>petal length (cm)</th>\n",
       "      <th>petal width (cm)</th>\n",
       "      <th>species</th>\n",
       "    </tr>\n",
       "  </thead>\n",
       "  <tbody>\n",
       "    <tr>\n",
       "      <th>0</th>\n",
       "      <td>5.1</td>\n",
       "      <td>3.5</td>\n",
       "      <td>1.4</td>\n",
       "      <td>0.2</td>\n",
       "      <td>setosa</td>\n",
       "    </tr>\n",
       "    <tr>\n",
       "      <th>1</th>\n",
       "      <td>4.9</td>\n",
       "      <td>3.0</td>\n",
       "      <td>1.4</td>\n",
       "      <td>0.2</td>\n",
       "      <td>setosa</td>\n",
       "    </tr>\n",
       "    <tr>\n",
       "      <th>2</th>\n",
       "      <td>4.7</td>\n",
       "      <td>3.2</td>\n",
       "      <td>1.3</td>\n",
       "      <td>0.2</td>\n",
       "      <td>setosa</td>\n",
       "    </tr>\n",
       "    <tr>\n",
       "      <th>3</th>\n",
       "      <td>4.6</td>\n",
       "      <td>3.1</td>\n",
       "      <td>1.5</td>\n",
       "      <td>0.2</td>\n",
       "      <td>setosa</td>\n",
       "    </tr>\n",
       "    <tr>\n",
       "      <th>4</th>\n",
       "      <td>5.0</td>\n",
       "      <td>3.6</td>\n",
       "      <td>1.4</td>\n",
       "      <td>0.2</td>\n",
       "      <td>setosa</td>\n",
       "    </tr>\n",
       "  </tbody>\n",
       "</table>\n",
       "</div>"
      ],
      "text/plain": [
       "   sepal length (cm)  sepal width (cm)  petal length (cm)  petal width (cm)  \\\n",
       "0                5.1               3.5                1.4               0.2   \n",
       "1                4.9               3.0                1.4               0.2   \n",
       "2                4.7               3.2                1.3               0.2   \n",
       "3                4.6               3.1                1.5               0.2   \n",
       "4                5.0               3.6                1.4               0.2   \n",
       "\n",
       "  species  \n",
       "0  setosa  \n",
       "1  setosa  \n",
       "2  setosa  \n",
       "3  setosa  \n",
       "4  setosa  "
      ]
     },
     "execution_count": 207,
     "metadata": {},
     "output_type": "execute_result"
    }
   ],
   "source": [
    "# Iris\n",
    "iris = datasets.load_iris()\n",
    "iris_df = pd.DataFrame(iris.data, columns=iris.feature_names)\n",
    "iris_df['species'] = pd.Categorical.from_codes(iris.target, iris.target_names)\n",
    "iris_df.head()"
   ]
  },
  {
   "cell_type": "code",
   "execution_count": 209,
   "metadata": {},
   "outputs": [],
   "source": [
    "X_iris_train, X_iris_test = train_test_split(iris_df, test_size=0.3333)\n",
    "Y_iris_train = X_iris_train['species']\n",
    "X_iris_train = X_iris_train.drop('species', axis=1)\n",
    "\n",
    "Y_iris_test = X_iris_test['species']\n",
    "X_iris_test = X_iris_test.drop('species', axis=1)"
   ]
  },
  {
   "cell_type": "code",
   "execution_count": 210,
   "metadata": {},
   "outputs": [
    {
     "data": {
      "text/plain": [
       "ExtraTreesClassifier(bootstrap=False, class_weight=None, criterion='gini',\n",
       "                     max_depth=None, max_features='auto', max_leaf_nodes=None,\n",
       "                     min_impurity_decrease=0.0, min_impurity_split=None,\n",
       "                     min_samples_leaf=1, min_samples_split=2,\n",
       "                     min_weight_fraction_leaf=0.0, n_estimators=20, n_jobs=None,\n",
       "                     oob_score=False, random_state=None, verbose=0,\n",
       "                     warm_start=False)"
      ]
     },
     "execution_count": 210,
     "metadata": {},
     "output_type": "execute_result"
    }
   ],
   "source": [
    "random_forest = RandomForestClassifier(n_estimators=20)\n",
    "extra_random_forest = ExtraTreesClassifier(n_estimators=20)\n",
    "\n",
    "random_forest.fit(X_iris_train, Y_iris_train)\n",
    "extra_random_forest.fit(X_iris_train, Y_iris_train)"
   ]
  },
  {
   "cell_type": "code",
   "execution_count": 213,
   "metadata": {},
   "outputs": [
    {
     "name": "stdout",
     "output_type": "stream",
     "text": [
      "Random Forest:\n",
      "[[14  0  0]\n",
      " [ 0 19  1]\n",
      " [ 0  2 14]]\n",
      "Score: 94.00%\n",
      "\n"
     ]
    }
   ],
   "source": [
    "print('Random Forest:')\n",
    "print(metrics.confusion_matrix(random_forest.predict(X_iris_test), Y_iris_test))\n",
    "print(f'Score: {random_forest.score(X_iris_test, Y_iris_test) * 100:.2f}%\\n')"
   ]
  },
  {
   "cell_type": "code",
   "execution_count": 215,
   "metadata": {},
   "outputs": [
    {
     "name": "stdout",
     "output_type": "stream",
     "text": [
      "Extremely Randomized Trees:\n",
      "[[14  0  0]\n",
      " [ 0 19  0]\n",
      " [ 0  2 15]]\n",
      "Score: 96.00%\n",
      "\n"
     ]
    }
   ],
   "source": [
    "print('Extremely Randomized Trees:')\n",
    "print(metrics.confusion_matrix(extra_random_forest.predict(X_iris_test), Y_iris_test))\n",
    "print(f'Score: {extra_random_forest.score(X_iris_test, Y_iris_test) * 100:.2f}%\\n')"
   ]
  },
  {
   "cell_type": "code",
   "execution_count": null,
   "metadata": {},
   "outputs": [],
   "source": []
  }
 ],
 "metadata": {
  "kernelspec": {
   "display_name": "Python 3",
   "language": "python",
   "name": "python3"
  },
  "language_info": {
   "codemirror_mode": {
    "name": "ipython",
    "version": 3
   },
   "file_extension": ".py",
   "mimetype": "text/x-python",
   "name": "python",
   "nbconvert_exporter": "python",
   "pygments_lexer": "ipython3",
   "version": "3.7.3"
  }
 },
 "nbformat": 4,
 "nbformat_minor": 4
}
