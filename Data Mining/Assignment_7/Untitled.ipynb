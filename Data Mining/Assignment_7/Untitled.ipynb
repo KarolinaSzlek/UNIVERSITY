{
 "cells": [
  {
   "cell_type": "code",
   "execution_count": 75,
   "metadata": {},
   "outputs": [],
   "source": [
    "# set up\n",
    "import numpy as np\n",
    "from numpy import linalg as LA"
   ]
  },
  {
   "cell_type": "markdown",
   "metadata": {},
   "source": [
    "# Zadanie 1."
   ]
  },
  {
   "cell_type": "markdown",
   "metadata": {},
   "source": [
    "### 1.1 \n",
    "Utwórz zestaw danych X składający się z 1000 wektorów dwuwymiarowych xi = (x1i,x2i).T, </br>\n",
    "dla i = 1, 2, …, 1000, wygenerowanych losowo przy użyciu dwuwymiarowego </br>\n",
    "rozkładu normalnego o średniej [3, 5] i macierzy kowariancji [12, 3; 3, 1]. </br>"
   ]
  },
  {
   "cell_type": "code",
   "execution_count": 47,
   "metadata": {},
   "outputs": [],
   "source": [
    "mu = [3, 5]\n",
    "sigma = [[12, 3], \n",
    "         [3, 1]]\n",
    "\n",
    "X = np.random.multivariate_normal(mu, sigma, 1000)"
   ]
  },
  {
   "cell_type": "markdown",
   "metadata": {},
   "source": [
    "### 1.2\n",
    "Ustandaryzuj dane, tak aby średnia dla każdego z wymiarów wynosiła 0, a wariancja 1."
   ]
  },
  {
   "cell_type": "code",
   "execution_count": 48,
   "metadata": {},
   "outputs": [],
   "source": [
    "X_std = (X - X.mean(axis=0)) / X.std(axis=0)"
   ]
  },
  {
   "cell_type": "code",
   "execution_count": 49,
   "metadata": {},
   "outputs": [
    {
     "data": {
      "text/plain": [
       "(array([1., 1.]), array([-7.90825738e-16, -1.81654691e-15]))"
      ]
     },
     "execution_count": 49,
     "metadata": {},
     "output_type": "execute_result"
    }
   ],
   "source": [
    "X_std.std(axis=0), X_std.mean(axis=0)"
   ]
  },
  {
   "cell_type": "markdown",
   "metadata": {},
   "source": [
    "### 1.2\n",
    "c) Policz macierz kowariancji S ustandaryzowanego zestawu danych X_std"
   ]
  },
  {
   "cell_type": "code",
   "execution_count": 82,
   "metadata": {},
   "outputs": [
    {
     "name": "stdout",
     "output_type": "stream",
     "text": [
      "[[12.69215901  3.27895354]\n",
      " [ 3.27895354  1.11765077]]\n",
      "\n",
      "[[1.001001   0.87146302]\n",
      " [0.87146302 1.001001  ]]\n"
     ]
    }
   ],
   "source": [
    "print(np.cov(X.T))\n",
    "print()\n",
    "sigma_std = np.cov(X_std.T)\n",
    "print(sigma_std)"
   ]
  },
  {
   "cell_type": "code",
   "execution_count": 66,
   "metadata": {},
   "outputs": [],
   "source": [
    "def COV(X, Y):\n",
    "    return np.sum((X - X.mean()) * (Y - Y.mean())) / len(X)"
   ]
  },
  {
   "cell_type": "code",
   "execution_count": 72,
   "metadata": {},
   "outputs": [
    {
     "name": "stdout",
     "output_type": "stream",
     "text": [
      "X_std matrix:\n",
      "0.8705915534368085\n",
      "1.0000000000000002\n",
      "1.0000000000000002\n"
     ]
    }
   ],
   "source": [
    "COV_X_Y = COV(X_std[:, 0], X_std[:, 1])\n",
    "COV_X_X = COV(X_std[:, 0], X_std[:, 0])\n",
    "COV_Y_Y = COV(X_std[:, 1], X_std[:, 1])\n",
    "print('X_std matrix:')\n",
    "print(COV_X_Y)\n",
    "print(COV_X_X)\n",
    "print(COV_Y_Y)"
   ]
  },
  {
   "cell_type": "code",
   "execution_count": 71,
   "metadata": {},
   "outputs": [
    {
     "name": "stdout",
     "output_type": "stream",
     "text": [
      "X matrix:\n",
      "3.2756745816121002\n",
      "12.67946684762321\n",
      "1.116533120470153\n"
     ]
    }
   ],
   "source": [
    "print('X matrix:')\n",
    "print(COV(X[:, 0], X[:, 1]))\n",
    "print(COV(X[:, 0], X[:, 0]))\n",
    "print(COV(X[:, 1], X[:, 1]))"
   ]
  },
  {
   "cell_type": "markdown",
   "metadata": {},
   "source": [
    "### 1.3\n",
    "Wyznacz wartości własne λ1 i λ2 oraz odpowiadające im wektory własne v1 i v2 <br>\n",
    "macierzy kowariancji S. Dla ustalenia notacji, wartości własne porządkujemy malejąco, <br>\n",
    "tzn. λ1 > λ2. <br>\n",
    "<br>\n",
    "\\begin{equation*} Det\\begin{pmatrix}cov(X, X)-\\lambda&cov(X, Y)\\\\cov(X, Y)&cov(Y, Y)-\\lambda\\end{pmatrix}=0. \\end{equation*}\n",
    "<br>\n",
    "\\begin{equation*} \\begin{bmatrix}cov(X, X)&cov(X, Y)\\\\cov(X, Y)&cov(Y, Y)\\end{bmatrix} \\begin{bmatrix}x_{11}\\\\x_{12}\\end{bmatrix} = -\\lambda \\begin{bmatrix}x_{11}\\\\x_{12}\\end{bmatrix}\\end{equation*}"
   ]
  },
  {
   "cell_type": "code",
   "execution_count": 102,
   "metadata": {},
   "outputs": [
    {
     "name": "stdout",
     "output_type": "stream",
     "text": [
      "λ1: 0.12940844656319173, λ2: 1.8705915534368087\n"
     ]
    }
   ],
   "source": [
    "# calculate eigenvalues\n",
    "delta = (COV_X_X + COV_Y_Y) ** 2 - 4 * (COV_X_X * COV_Y_Y - COV_X_Y * COV_X_Y)\n",
    "lambda_1 = ((COV_X_X + COV_Y_Y) - np.sqrt(delta)) / 2\n",
    "lambda_2 = ((COV_X_X + COV_Y_Y) + np.sqrt(delta)) / 2\n",
    "\n",
    "print(f'λ1: {lambda_1}, λ2: {lambda_2}')"
   ]
  },
  {
   "cell_type": "code",
   "execution_count": 104,
   "metadata": {},
   "outputs": [
    {
     "data": {
      "text/plain": [
       "0.517633786252767"
      ]
     },
     "execution_count": 104,
     "metadata": {},
     "output_type": "execute_result"
    }
   ],
   "source": [
    "# calculate eigenvectors\n",
    "(COV_X_X + lambda_1) * (COV_Y_Y + lambda_1) - COV_X_Y ** 2"
   ]
  },
  {
   "cell_type": "code",
   "execution_count": 101,
   "metadata": {},
   "outputs": [
    {
     "name": "stdout",
     "output_type": "stream",
     "text": [
      "Eigenvectors:\n",
      "[[ 0.70710678 -0.70710678]\n",
      " [ 0.70710678  0.70710678]],\n",
      "\n",
      "Eigenvalues: [1.87246402 0.12953798]\n"
     ]
    }
   ],
   "source": [
    "v, w = LA.eig(sigma_std)\n",
    "print(f'Eigenvectors:\\n{w},\\n\\nEigenvalues: {v}')"
   ]
  },
  {
   "cell_type": "code",
   "execution_count": null,
   "metadata": {},
   "outputs": [],
   "source": []
  }
 ],
 "metadata": {
  "kernelspec": {
   "display_name": "Python 3",
   "language": "python",
   "name": "python3"
  },
  "language_info": {
   "codemirror_mode": {
    "name": "ipython",
    "version": 3
   },
   "file_extension": ".py",
   "mimetype": "text/x-python",
   "name": "python",
   "nbconvert_exporter": "python",
   "pygments_lexer": "ipython3",
   "version": "3.7.3"
  }
 },
 "nbformat": 4,
 "nbformat_minor": 4
}
