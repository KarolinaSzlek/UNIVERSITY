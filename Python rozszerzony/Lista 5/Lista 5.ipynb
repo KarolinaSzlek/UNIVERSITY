{
 "cells": [
  {
   "cell_type": "code",
   "execution_count": 80,
   "metadata": {},
   "outputs": [],
   "source": [
    "# Set up\n",
    "import math\n",
    "import time \n",
    "import pandas as pd\n",
    "import numpy as np\n",
    "from collections import deque"
   ]
  },
  {
   "cell_type": "markdown",
   "metadata": {},
   "source": [
    "## Zadanie 1\n",
    "Zaimplementuj to samo zadanie które wykonałaś/wykonałeś z listy 4., ale wykorzystaj do tego iteratory.<br/>\n",
    "Zbadaj, która teraz wersja jest najszybsza.<br/>\n",
    "Przetestuj działanie implementacji dla różnych argumentów, np. dla 10, 100, 1000 etc. <br/>\n",
    "Wypisz na konsolę czasy działania dla poszczególnych danych i implementacji w ładnie sformatowany sposób, <br/>\n",
    "na przykład w tabelce.<br/>"
   ]
  },
  {
   "cell_type": "code",
   "execution_count": 52,
   "metadata": {},
   "outputs": [],
   "source": [
    "# imperative\n",
    "def primes_im(n):\n",
    "    res = []\n",
    "    for i in range(2,n):\n",
    "        rge = math.floor(math.sqrt(i))\n",
    "        if i == 2 or i == 3:\n",
    "            res.append(i)\n",
    "        else:\n",
    "            for j in range(2,rge+1):\n",
    "                if i%j == 0:\n",
    "                    break\n",
    "                elif j == rge:\n",
    "                    res.append(i)\n",
    "    return res    "
   ]
  },
  {
   "cell_type": "code",
   "execution_count": 51,
   "metadata": {},
   "outputs": [],
   "source": [
    "# list comprehention\n",
    "def primes_lc(n):\n",
    "    return [x for x in range(2, n + 1) \n",
    "            if x == 2 \n",
    "            or x == 3 \n",
    "            or all(x % y != 0 for y in range(2, math.floor(math.sqrt(n))+1))]"
   ]
  },
  {
   "cell_type": "code",
   "execution_count": 50,
   "metadata": {},
   "outputs": [],
   "source": [
    "# functional\n",
    "def primes_fun(n):\n",
    "    def is_prime_fun(n):\n",
    "        return len(list(filter(lambda k: n%k == 0 and n != 2, range(2,math.floor(math.sqrt(n))+1)))) == 0\n",
    "\n",
    "    return list(filter(is_prime_fun,range(2,n + 1)))"
   ]
  },
  {
   "cell_type": "code",
   "execution_count": 54,
   "metadata": {},
   "outputs": [],
   "source": [
    "# generator\n",
    "def primes_gen(n):\n",
    "    def gen(n):  \n",
    "        Div = {} # dict with divisors   \n",
    "        p = 2\n",
    "\n",
    "        while p <= n:\n",
    "            if p not in Div:\n",
    "                yield p\n",
    "                Div[p * p] = [p]\n",
    "            else:\n",
    "                for d in Div[p]:\n",
    "                    Div.setdefault(d + p, []).append(d)\n",
    "                del Div[p]\n",
    "            p += 1\n",
    "\n",
    "    return [p for p in gen(n)]"
   ]
  },
  {
   "cell_type": "code",
   "execution_count": 56,
   "metadata": {},
   "outputs": [],
   "source": [
    "def timer(n, f):\n",
    "    '''\n",
    "    Args:\n",
    "        f - function no.\n",
    "            0 - imperative,\n",
    "            1 - functional,\n",
    "            2 - list comprehention\n",
    "            3 - generator\n",
    "    Returns:\n",
    "        Function duration for given n\n",
    "    '''\n",
    "    func = [primes_im, primes_fun, primes_lc, primes_gen]\n",
    "    t = time.time()\n",
    "    func[f](n)\n",
    "    \n",
    "    return time.time() - t"
   ]
  },
  {
   "cell_type": "code",
   "execution_count": 62,
   "metadata": {},
   "outputs": [],
   "source": [
    "features = ['n', 'imperative', 'functional', 'list_comp', 'generator']\n",
    "data = {}\n",
    "\n",
    "for i in range(1, 6):\n",
    "    n = 10 ** i\n",
    "    data.setdefault('n', []).append(n)\n",
    "    data.setdefault('imperative', []).append(timer(n, 0))\n",
    "    data.setdefault('functional', []).append(timer(n, 1))\n",
    "    data.setdefault('list_comp', []).append(timer(n, 2))\n",
    "    data.setdefault('generator', []).append(timer(n, 3))\n",
    "\n",
    "results = pd.DataFrame(data)"
   ]
  },
  {
   "cell_type": "code",
   "execution_count": 63,
   "metadata": {},
   "outputs": [
    {
     "data": {
      "text/html": [
       "<div>\n",
       "<style scoped>\n",
       "    .dataframe tbody tr th:only-of-type {\n",
       "        vertical-align: middle;\n",
       "    }\n",
       "\n",
       "    .dataframe tbody tr th {\n",
       "        vertical-align: top;\n",
       "    }\n",
       "\n",
       "    .dataframe thead th {\n",
       "        text-align: right;\n",
       "    }\n",
       "</style>\n",
       "<table border=\"1\" class=\"dataframe\">\n",
       "  <thead>\n",
       "    <tr style=\"text-align: right;\">\n",
       "      <th></th>\n",
       "      <th>n</th>\n",
       "      <th>imperative</th>\n",
       "      <th>functional</th>\n",
       "      <th>list_comp</th>\n",
       "      <th>generator</th>\n",
       "    </tr>\n",
       "  </thead>\n",
       "  <tbody>\n",
       "    <tr>\n",
       "      <th>0</th>\n",
       "      <td>10</td>\n",
       "      <td>0.000014</td>\n",
       "      <td>0.000025</td>\n",
       "      <td>0.000016</td>\n",
       "      <td>0.000009</td>\n",
       "    </tr>\n",
       "    <tr>\n",
       "      <th>1</th>\n",
       "      <td>100</td>\n",
       "      <td>0.000100</td>\n",
       "      <td>0.000253</td>\n",
       "      <td>0.000163</td>\n",
       "      <td>0.000067</td>\n",
       "    </tr>\n",
       "    <tr>\n",
       "      <th>2</th>\n",
       "      <td>1000</td>\n",
       "      <td>0.001339</td>\n",
       "      <td>0.010133</td>\n",
       "      <td>0.003454</td>\n",
       "      <td>0.001730</td>\n",
       "    </tr>\n",
       "    <tr>\n",
       "      <th>3</th>\n",
       "      <td>10000</td>\n",
       "      <td>0.021602</td>\n",
       "      <td>0.128420</td>\n",
       "      <td>0.026760</td>\n",
       "      <td>0.008229</td>\n",
       "    </tr>\n",
       "    <tr>\n",
       "      <th>4</th>\n",
       "      <td>100000</td>\n",
       "      <td>0.346249</td>\n",
       "      <td>3.496092</td>\n",
       "      <td>0.489351</td>\n",
       "      <td>0.091342</td>\n",
       "    </tr>\n",
       "  </tbody>\n",
       "</table>\n",
       "</div>"
      ],
      "text/plain": [
       "        n  imperative  functional  list_comp  generator\n",
       "0      10    0.000014    0.000025   0.000016   0.000009\n",
       "1     100    0.000100    0.000253   0.000163   0.000067\n",
       "2    1000    0.001339    0.010133   0.003454   0.001730\n",
       "3   10000    0.021602    0.128420   0.026760   0.008229\n",
       "4  100000    0.346249    3.496092   0.489351   0.091342"
      ]
     },
     "execution_count": 63,
     "metadata": {},
     "output_type": "execute_result"
    }
   ],
   "source": [
    "results"
   ]
  },
  {
   "cell_type": "markdown",
   "metadata": {},
   "source": [
    "## Zadanie 2 Obrazki logiczne\n",
    "Zadanie 3.\n",
    "Poniższe zadanie polega na rekonstrukcji dwuwymiarowego obrazu na podstawie <br/>\n",
    "rzucanego cienia. Zakładamy, że obraz jest prostokątem czarno–białych pikseli. <br/>\n",
    "Cień to dwa wektory, opisujące ile jet zaczernionych pikseli w wierszu bądź kolumnie. <br/>"
   ]
  },
  {
   "cell_type": "code",
   "execution_count": 107,
   "metadata": {},
   "outputs": [],
   "source": [
    "def possiblle_settings(n, pattern):\n",
    "    if not n:\n",
    "        return [[]]\n",
    "    if not pattern:\n",
    "        return [[0] * n]\n",
    "    \n",
    "    block_len = pattern[0]\n",
    "    block = [1] * block_len\n",
    "    new_n = n - block_len\n",
    "    \n",
    "    if pattern[1:]:\n",
    "        block += [0]\n",
    "        new_n -= 1\n",
    "        \n",
    "    current_possibilities = [\n",
    "        block + new_pattern for new_pattern in possiblle_settings(new_n, pattern[1:])\n",
    "    ]\n",
    "    required_len = sum(pattern) + len(pattern) - 1\n",
    "    \n",
    "    if required_len < n:\n",
    "        return current_possibilities + [\n",
    "            [0] + new_pattern for new_pattern in possiblle_settings(n - 1, pattern)\n",
    "        ]\n",
    "    else:\n",
    "        return current_possibilities\n",
    "\n",
    "\n",
    "def solve(rows, columns):\n",
    "    height, width = len(rows), len(columns)\n",
    "    possible_rows = [possiblle_settings(width, row) for row in rows]\n",
    "    possible_columns = [possiblle_settings(height, column) for column in columns]\n",
    "    img = np.zeros((height, width))\n",
    "    not_fixed = deque() \n",
    "\n",
    "    def match_columns(y, x):\n",
    "        cell = img[y][x]\n",
    "        possible_columns[x] = [\n",
    "            column for column in possible_columns[x] if column[y] == cell\n",
    "        ]\n",
    "\n",
    "    def match_rows(y, x):\n",
    "        cell = img[y][x]\n",
    "        possible_rows[y] = [\n",
    "            row for row in possible_rows[y] if row[x] == cell\n",
    "        ]\n",
    "\n",
    "    def find_solution_for(y, x, current_rows):\n",
    "        row_point = current_rows[0][x]\n",
    "        if all(row[x] == row_point for row in current_rows): # for all rows 'row_point' is the same\n",
    "            img[y][x] = row_point # we can be sure about this cell\n",
    "            match_columns(y, x) # we adjust columns\n",
    "            \n",
    "        else: # same thing for columns\n",
    "            column_point = possible_columns[x][0][y]\n",
    "            if all(column[y] == column_point for column in possible_columns[x]):\n",
    "                img[y][x] = column_point\n",
    "                match_rows(y, x) \n",
    "            else:\n",
    "                not_fixed.append((y, x)) # we delay this cell\n",
    "\n",
    "    for y in range(height):\n",
    "        current_rows = possible_rows[y]\n",
    "        for x in range(width):\n",
    "            find_solution_for(y, x, current_rows)\n",
    "\n",
    "    while not_fixed:  # fix rest\n",
    "        y, x = not_fixed.popleft()\n",
    "        current_rows = possible_rows[y]\n",
    "        find_solution_for(y, x, current_rows)\n",
    "\n",
    "    return img\n",
    "\n",
    "\n",
    "def parse_data(data):\n",
    "    height, width = [int(literal) for literal in data.readline().split()]\n",
    "    rows_and_columns = [\n",
    "        [int(literal) for literal in line.split()] for line in data.readlines()\n",
    "    ]\n",
    "    assert len(rows_and_columns) == height + width\n",
    "    rows, columns = rows_and_columns[:height], rows_and_columns[height:]\n",
    "    return (rows, columns)\n",
    "\n",
    "\n",
    "def read_data(filename):\n",
    "    with open(filename) as data:\n",
    "        rows, columns = parse_data(data)\n",
    "        image = solve(rows, columns)\n",
    "        \n",
    "        return [['#' if x else ' ' for x in line] for line in image]\n",
    "        \n",
    "def get_ans(no, images):\n",
    "    IMG = 'pics/' + images[no]\n",
    "    ans = read_data(IMG)\n",
    "    for x in ans:\n",
    "        print(*x)"
   ]
  },
  {
   "cell_type": "code",
   "execution_count": 103,
   "metadata": {},
   "outputs": [],
   "source": [
    "images = [\n",
    "    'square.txt',  # 0\n",
    "    'cat.txt',  # 1\n",
    "    'duck.txt',  # 2\n",
    "    'man.txt',  # 3\n",
    "    'rocket.txt',  # 4\n",
    "    'heart.txt',  # 5\n",
    "    'anchor.txt',  # 6\n",
    "    'car.txt',  # 7\n",
    "    'mushroom.txt',  # 8\n",
    "    'flower.txt',  # 9\n",
    "    'triangle_man.txt',  # 10\n",
    "]"
   ]
  },
  {
   "cell_type": "code",
   "execution_count": 108,
   "metadata": {},
   "outputs": [
    {
     "name": "stdout",
     "output_type": "stream",
     "text": [
      "          # # # # #          \n",
      "      # # # # # # # # #      \n",
      "    # # # # #   # # # # #    \n",
      "  # # # # # # # # # # # # #  \n",
      "  # # #   # # # # #   # # #  \n",
      "# # # # # # # # # # # # # # #\n",
      "#   # # # # #   # # # # #   #\n",
      "# # # # # # # # # # # # # # #\n",
      "          # #   # #          \n",
      "        # #       # #        \n",
      "        #           #        \n",
      "        #           #        \n",
      "        #           #        \n",
      "        # #       # #        \n",
      "          # # # # #          \n"
     ]
    }
   ],
   "source": [
    "get_ans(8, images)"
   ]
  },
  {
   "cell_type": "code",
   "execution_count": 97,
   "metadata": {},
   "outputs": [
    {
     "name": "stdout",
     "output_type": "stream",
     "text": [
      "          # # # #            \n",
      "        # #     # #          \n",
      "      # #         # #        \n",
      "    # #   # # # #   # #      \n",
      "  # #     #     #     # #    \n",
      "# #       # # # #       # #  \n",
      "#                         # #\n",
      "# # # #   # # # #   # # # #  \n",
      "#     #   #     #   #     #  \n",
      "# # # #   #     #   # # # #  \n",
      "          #     #         #  \n",
      "          #     #       # # #\n",
      "      # # # # # # # # # #    \n",
      "    # #                 #    \n",
      "# # # #                 #    \n"
     ]
    }
   ],
   "source": [
    "get_ans(10, images)"
   ]
  },
  {
   "cell_type": "code",
   "execution_count": 98,
   "metadata": {},
   "outputs": [
    {
     "name": "stdout",
     "output_type": "stream",
     "text": [
      "          # # # # #          \n",
      "        # #       # #        \n",
      "        #           #        \n",
      "        #           #        \n",
      "  # # # #           # # # #  \n",
      "# #     # #       #       # #\n",
      "#           # # #           #\n",
      "#           #   #           #\n",
      "# #     # # # # # # #     # #\n",
      "  # # # #     #   # # # # #  \n",
      "    # #       #         #    \n",
      "    #         #         # #  \n",
      "    #         #           #  \n",
      "    # #   # # # # #     # #  \n",
      "      # # #       # # # #    \n"
     ]
    }
   ],
   "source": [
    "get_ans(9, images)"
   ]
  },
  {
   "cell_type": "code",
   "execution_count": null,
   "metadata": {},
   "outputs": [],
   "source": []
  }
 ],
 "metadata": {
  "kernelspec": {
   "display_name": "Python 3",
   "language": "python",
   "name": "python3"
  },
  "language_info": {
   "codemirror_mode": {
    "name": "ipython",
    "version": 3
   },
   "file_extension": ".py",
   "mimetype": "text/x-python",
   "name": "python",
   "nbconvert_exporter": "python",
   "pygments_lexer": "ipython3",
   "version": "3.7.4"
  }
 },
 "nbformat": 4,
 "nbformat_minor": 4
}
