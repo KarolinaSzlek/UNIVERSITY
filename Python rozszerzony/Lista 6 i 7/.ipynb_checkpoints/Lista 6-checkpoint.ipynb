{
 "cells": [
  {
   "cell_type": "markdown",
   "metadata": {},
   "source": [
    "# Zadanie 3.\n",
    "Napisz własny system do indeksowania stron internetowych, \n",
    "który: <br/>\n",
    "- przegląda strony i zapamiętuje liczbę wystąpień poszczególnych słów na poszczególnych stronach\n",
    "- zachowuje się podobnie jak pythonowy słownik, gdzie kluczem jest słowo, a wartością lista stron na których to słowo występuje (bądź lista pusta).\n",
    "Strony powinny być uszeregowane malejąco względem podanej liczby wystąpień. <br/>\n",
    "Możesz też zaproponować własną strategię rankowania stron. <br/>\n",
    "Zakładamy, że indeksujemy tylko stronę wskazaną jako parametr odpowiedniej <br/>\n",
    "funkcji czy metody, oraz strony do których da się dojść po linkach i href w nie <br/>\n",
    "więcej niz z góry zadana liczba kroków. <br/>"
   ]
  },
  {
   "cell_type": "code",
   "execution_count": 2,
   "metadata": {},
   "outputs": [],
   "source": [
    "# Set up\n",
    "from collections import OrderedDict \n",
    "from operator import itemgetter\n",
    "import urllib\n",
    "from bs4 import BeautifulSoup\n",
    "from bs4.element import Comment\n",
    "from collections import Counter\n",
    "from string import punctuation\n",
    "import re\n",
    "from multiprocessing import Pool"
   ]
  },
  {
   "cell_type": "code",
   "execution_count": 3,
   "metadata": {},
   "outputs": [],
   "source": [
    "# dictionary of all words\n",
    "WORDS = {}"
   ]
  },
  {
   "cell_type": "code",
   "execution_count": 4,
   "metadata": {},
   "outputs": [],
   "source": [
    "def make_soup(url):\n",
    "    try:\n",
    "        page = urllib.request.urlopen(url)\n",
    "    except urllib.request.HTTPError as e:\n",
    "        print('Ignored: ', e)\n",
    "        return -1\n",
    "        \n",
    "    req = urllib.request.Request(url , headers={'User-Agent': 'Mozilla/5.0'})\n",
    "    page = urllib.request.urlopen(req).read()\n",
    "    soup_data = BeautifulSoup(page, \"html.parser\")\n",
    "    return soup_data\n",
    "\n",
    "\n",
    "def tag_visible(element):\n",
    "    if element.parent.name in ['style', 'script', 'head', 'title', 'meta', '[document]']:\n",
    "        return False\n",
    "    if isinstance(element, Comment):\n",
    "        return False\n",
    "    return True\n",
    "\n",
    "\n",
    "def text_from_html(url):\n",
    "    soup = make_soup(url)\n",
    "    if soup == -1:\n",
    "        return ''\n",
    "    texts = soup.findAll(text=True)\n",
    "    visible_texts = filter(tag_visible, texts)  \n",
    "    return u\" \".join(t.strip() for t in visible_texts)\n",
    "\n",
    "\n",
    "def get_words(url):\n",
    "    text = text_from_html(url)\n",
    "    # Delete punctuaction and empty words\n",
    "    text = [re.sub('\\W+', '', t) for t in text.lower().split()]\n",
    "    text = list(filter(lambda t: len(t), text))\n",
    "    return text\n",
    "\n",
    "def get_hrefs(url):\n",
    "    soup = make_soup(url)\n",
    "    if soup == -1:\n",
    "        return []\n",
    "    hrefs = []\n",
    "        \n",
    "    for link in soup.find_all('a'):\n",
    "        hrefs.append(link.get('href'))\n",
    "        \n",
    "    ans = []\n",
    "    for link in hrefs:\n",
    "        if link is None or len(link) == 0:\n",
    "            continue\n",
    "        if link.find('https') != -1 or link.find('http') != -1:\n",
    "            ans.append(link)\n",
    "        else:\n",
    "            sub_sites = link.split('/')\n",
    "            if len(sub_sites) > 1:\n",
    "                key_word = '/' + sub_sites[1] + '/'\n",
    "                pos = url.find(key_word)\n",
    "                if pos != -1:\n",
    "                    ans.append(url[:pos] + link)\n",
    "                else:\n",
    "                    ans.append(url + link)\n",
    "          \n",
    "    return ans\n",
    "\n",
    "def DFS(url, step, max_step, no, sites_no):\n",
    "    if step >= max_step:\n",
    "        return\n",
    "    \n",
    "    print(f'{no} / {sites_no} -> : ', url)\n",
    "        \n",
    "    words = get_words(url)\n",
    "    hrefs = get_hrefs(url)\n",
    "    \n",
    "    for w in words:\n",
    "        WORDS.setdefault(w, set()).add(url)\n",
    "        \n",
    "    for no, ref in enumerate(hrefs):\n",
    "        DFS(ref, step + 1, max_step, no + 1, len(hrefs))\n",
    "        \n",
    "def get_words():\n",
    "    return dict(sorted(WORDS.items(), key=lambda x: len(x[1]), reverse=True))"
   ]
  },
  {
   "cell_type": "code",
   "execution_count": 5,
   "metadata": {},
   "outputs": [],
   "source": [
    "# Pick a site\n",
    "site = 'https://en.wikipedia.org/wiki/Special:Random'\n",
    "site2 = 'https://en.wikipedia.org/wiki/Mercury_Cyclone'\n",
    "site3 = 'https://en.wikipedia.org/wiki/Alpman'"
   ]
  },
  {
   "cell_type": "code",
   "execution_count": 226,
   "metadata": {},
   "outputs": [
    {
     "name": "stdout",
     "output_type": "stream",
     "text": [
      "1 / 1 -> :  https://en.wikipedia.org/wiki/Alpman\n",
      "1 / 59 -> :  https://en.wikipedia.org/wiki/Ayten_Alpman\n",
      "2 / 59 -> :  https://en.wikipedia.org/wiki/Fatma_Serpil_Alpman\n",
      "3 / 59 -> :  https://en.wikipedia.org/wiki/Surname\n",
      "4 / 59 -> :  https://en.wikipedia.org/w/index.php?title=Special:WhatLinksHere/Alpman&namespace=0\n",
      "Ignored:  HTTP Error 404: Not Found\n",
      "Ignored:  HTTP Error 404: Not Found\n",
      "5 / 59 -> :  https://en.wikipedia.org/wiki/Wikipedia:Manual_of_Style/Linking\n",
      "6 / 59 -> :  https://en.wikipedia.org/wiki/Given_name\n",
      "7 / 59 -> :  https://en.wikipedia.org/w/index.php?title=Alpman&oldid=831244460\n",
      "8 / 59 -> :  https://en.wikipedia.org/wiki/Help:Category\n",
      "9 / 59 -> :  https://en.wikipedia.org/wiki/Category:Surnames\n",
      "10 / 59 -> :  https://en.wikipedia.org/wiki/Category:Articles_with_short_description\n",
      "11 / 59 -> :  https://en.wikipedia.org/wiki/Category:All_set_index_articles\n",
      "12 / 59 -> :  https://en.wikipedia.org/wiki/Special:MyTalk\n",
      "13 / 59 -> :  https://en.wikipedia.org/wiki/Special:MyContributions\n",
      "14 / 59 -> :  https://en.wikipedia.org/wiki/Alpman/w/index.php?title=Special:CreateAccount&returnto=Alpman\n",
      "Ignored:  HTTP Error 404: Not Found\n",
      "Ignored:  HTTP Error 404: Not Found\n",
      "15 / 59 -> :  https://en.wikipedia.org/wiki/Alpman/w/index.php?title=Special:UserLogin&returnto=Alpman\n",
      "Ignored:  HTTP Error 404: Not Found\n",
      "Ignored:  HTTP Error 404: Not Found\n",
      "16 / 59 -> :  https://en.wikipedia.org/wiki/Alpman\n",
      "17 / 59 -> :  https://en.wikipedia.org/wiki/Talk:Alpman\n",
      "18 / 59 -> :  https://en.wikipedia.org/wiki/Alpman\n",
      "19 / 59 -> :  https://en.wikipedia.org/wiki/Alpman/w/index.php?title=Alpman&action=edit\n",
      "20 / 59 -> :  https://en.wikipedia.org/wiki/Alpman/w/index.php?title=Alpman&action=history\n",
      "Ignored:  HTTP Error 404: Not Found\n",
      "Ignored:  HTTP Error 404: Not Found\n",
      "21 / 59 -> :  https://en.wikipedia.org/wiki/Main_Page\n",
      "22 / 59 -> :  https://en.wikipedia.org/wiki/Main_Page\n",
      "23 / 59 -> :  https://en.wikipedia.org/wiki/Portal:Contents\n",
      "24 / 59 -> :  https://en.wikipedia.org/wiki/Portal:Featured_content\n",
      "25 / 59 -> :  https://en.wikipedia.org/wiki/Portal:Current_events\n",
      "26 / 59 -> :  https://en.wikipedia.org/wiki/Special:Random\n",
      "27 / 59 -> :  https://donate.wikimedia.org/wiki/Special:FundraiserRedirector?utm_source=donate&utm_medium=sidebar&utm_campaign=C13_en.wikipedia.org&uselang=en\n",
      "28 / 59 -> :  https://shop.wikimedia.org\n",
      "29 / 59 -> :  https://en.wikipedia.org/wiki/Help:Contents\n",
      "30 / 59 -> :  https://en.wikipedia.org/wiki/Wikipedia:About\n",
      "31 / 59 -> :  https://en.wikipedia.org/wiki/Wikipedia:Community_portal\n",
      "32 / 59 -> :  https://en.wikipedia.org/wiki/Special:RecentChanges\n",
      "33 / 59 -> :  https://en.wikipedia.org/wiki/Wikipedia:Contact_us\n",
      "34 / 59 -> :  https://en.wikipedia.org/wiki/Special:WhatLinksHere/Alpman\n",
      "35 / 59 -> :  https://en.wikipedia.org/wiki/Special:RecentChangesLinked/Alpman\n",
      "36 / 59 -> :  https://en.wikipedia.org/wiki/Wikipedia:File_Upload_Wizard\n",
      "37 / 59 -> :  https://en.wikipedia.org/wiki/Special:SpecialPages\n",
      "38 / 59 -> :  https://en.wikipedia.org/wiki/Alpman/w/index.php?title=Alpman&oldid=831244460\n",
      "39 / 59 -> :  https://en.wikipedia.org/wiki/Alpman/w/index.php?title=Alpman&action=info\n",
      "40 / 59 -> :  https://www.wikidata.org/wiki/Special:EntityPage/Q56537475\n",
      "41 / 59 -> :  https://en.wikipedia.org/wiki/Alpman/w/index.php?title=Special:CiteThisPage&page=Alpman&id=831244460\n",
      "Ignored:  HTTP Error 404: Not Found\n",
      "Ignored:  HTTP Error 404: Not Found\n",
      "42 / 59 -> :  https://en.wikipedia.org/wiki/Alpman/w/index.php?title=Special:Book&bookcmd=book_creator&referer=Alpman\n",
      "Ignored:  HTTP Error 404: Not Found\n",
      "Ignored:  HTTP Error 404: Not Found\n",
      "43 / 59 -> :  https://en.wikipedia.org/wiki/Alpman/w/index.php?title=Special:ElectronPdf&page=Alpman&action=show-download-screen\n",
      "Ignored:  HTTP Error 404: Not Found\n",
      "Ignored:  HTTP Error 404: Not Found\n",
      "44 / 59 -> :  https://en.wikipedia.org/wiki/Alpman/w/index.php?title=Alpman&printable=yes\n",
      "Ignored:  HTTP Error 404: Not Found\n",
      "Ignored:  HTTP Error 404: Not Found\n",
      "45 / 59 -> :  https://www.wikidata.org/wiki/Special:EntityPage/Q56537475#sitelinks-wikipedia\n",
      "46 / 59 -> :  https://en.wikipedia.org/wiki/Wikipedia:Text_of_Creative_Commons_Attribution-ShareAlike_3.0_Unported_License\n",
      "47 / 59 -> :  https://creativecommons.org/licenses/by-sa/3.0/\n",
      "Ignored:  HTTP Error 403: Forbidden\n",
      "Ignored:  HTTP Error 403: Forbidden\n",
      "48 / 59 -> :  https://foundation.wikimedia.org/wiki/Terms_of_Use\n",
      "49 / 59 -> :  https://foundation.wikimedia.org/wiki/Privacy_policy\n",
      "50 / 59 -> :  https://www.wikimediafoundation.org/\n",
      "51 / 59 -> :  https://foundation.wikimedia.org/wiki/Privacy_policy\n",
      "52 / 59 -> :  https://en.wikipedia.org/wiki/Wikipedia:About\n",
      "53 / 59 -> :  https://en.wikipedia.org/wiki/Wikipedia:General_disclaimer\n",
      "54 / 59 -> :  https://en.wikipedia.org/wiki/Wikipedia:Contact_us\n",
      "55 / 59 -> :  https://www.mediawiki.org/wiki/Special:MyLanguage/How_to_contribute\n",
      "56 / 59 -> :  https://foundation.wikimedia.org/wiki/Cookie_statement\n",
      "57 / 59 -> :  https://en.m.wikipedia.org/w/index.php?title=Alpman&mobileaction=toggle_view_mobile\n",
      "58 / 59 -> :  https://wikimediafoundation.org/\n",
      "59 / 59 -> :  https://www.mediawiki.org/\n"
     ]
    }
   ],
   "source": [
    "# Let's see all pages available from starting one \n",
    "WORDS = {}\n",
    "steps = 2\n",
    "DFS(site3, 0, steps, 1, 1)"
   ]
  },
  {
   "cell_type": "code",
   "execution_count": 229,
   "metadata": {},
   "outputs": [
    {
     "name": "stdout",
     "output_type": "stream",
     "text": [
      "In total collected 11533 words\n"
     ]
    }
   ],
   "source": [
    "print(f'In total collected {len(WORDS)} words')"
   ]
  },
  {
   "cell_type": "code",
   "execution_count": 282,
   "metadata": {},
   "outputs": [],
   "source": [
    "WORDS_SORTED = get_words()"
   ]
  },
  {
   "cell_type": "code",
   "execution_count": 284,
   "metadata": {},
   "outputs": [
    {
     "name": "stdout",
     "output_type": "stream",
     "text": [
      "Most common word is 'from' and occured 45 times!\n"
     ]
    }
   ],
   "source": [
    "pair = next(iter(x.items()))\n",
    "print(f'Most common word is \\'{pair[0]}\\' and occured {len(pair[1])} times!')"
   ]
  },
  {
   "cell_type": "markdown",
   "metadata": {},
   "source": [
    "# 2. Speed up by using multiprocessing"
   ]
  },
  {
   "cell_type": "code",
   "execution_count": null,
   "metadata": {},
   "outputs": [],
   "source": []
  }
 ],
 "metadata": {
  "kernelspec": {
   "display_name": "Python 3",
   "language": "python",
   "name": "python3"
  },
  "language_info": {
   "codemirror_mode": {
    "name": "ipython",
    "version": 3
   },
   "file_extension": ".py",
   "mimetype": "text/x-python",
   "name": "python",
   "nbconvert_exporter": "python",
   "pygments_lexer": "ipython3",
   "version": "3.7.4"
  }
 },
 "nbformat": 4,
 "nbformat_minor": 4
}
